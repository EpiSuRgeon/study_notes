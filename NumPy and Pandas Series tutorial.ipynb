{
 "cells": [
  {
   "cell_type": "markdown",
   "metadata": {},
   "source": [
    "\n",
    "# NumPy Arrays and Pandas Series tutorial\n",
    "\n",
    "<a href = #numpy> $\\S$ 1. NumPy Array</a>\n",
    "\n",
    "- <a href = #array_index> 1.1. NumPy Indexing</a>\n",
    "    - <a href = #array_index1> 1.1.1 Array Slicing </a>\n",
    "    - <a href = #array_index2> 1.1.2  Integer Array Indexing</a> \n",
    "    - <a href = #array_index3> 1.1.3 Boolean array indexing</a>\n",
    "- <a href = #array_math> 1.2 Array Math </a>\n",
    "\n",
    "<a href = #pandas> $\\S$ 2. Pandas Series</a>\n",
    "- <a href = #pandas_alignment>Alignment of Series objects</a>\n",
    "\n"
   ]
  },
  {
   "cell_type": "markdown",
   "metadata": {},
   "source": [
    "<a id = 'numpy'></a>\n",
    "## NumPy Arrays\n",
    "\n",
    "Based on the tutorial by Justin Johnson: http://cs231n.github.io/python-numpy-tutorial/#numpy-array-indexing"
   ]
  },
  {
   "cell_type": "markdown",
   "metadata": {},
   "source": [
    "#### NumPy Array\n",
    "\n",
    "A **numpy array** is a \n",
    "* _grid of values_,\n",
    "* all of the _same type_, \n",
    "* is _indexed by a tuple of nonnegative integers. \n",
    "\n",
    "**Array _rank_** is the number of dimensins\n",
    "\n",
    "**Array _shape_** is a tuple of integers that give the size of the array along each dimension\n"
   ]
  },
  {
   "cell_type": "markdown",
   "metadata": {},
   "source": [
    "A numpy array is a grid of values, all of the same type, and is indexed by a tuple of nonnegative integers. The number of dimensions is the rank of the array; the shape of an array is a tuple of integers giving the size of the array along each dimension."
   ]
  },
  {
   "cell_type": "code",
   "execution_count": 2,
   "metadata": {},
   "outputs": [
    {
     "name": "stdout",
     "output_type": "stream",
     "text": [
      "<class 'numpy.ndarray'>\n",
      "r1 shape: (3,)\n",
      "3 2 1\n",
      "[5 2 3]\n",
      "r2 shape: (2, 3)\n",
      "2 5\n"
     ]
    }
   ],
   "source": [
    "import numpy as np\n",
    "\n",
    "# Initialize array form a Python list\n",
    "\n",
    "r1 = np.array([1,2,3]) # Create a rank 1 array\n",
    "print (type(r1))\n",
    "print ('r1 shape:',r1.shape)\n",
    "\n",
    "print (r1[2],r1[1], r1[0]) # Access elements of an array by index using [] \n",
    "r1[0] = 5 # mutable\n",
    "print (r1)\n",
    "\n",
    "r2 = np.array([[1,2,3],[4,5,6]]) # Create a rank 2 array. Note that we have nested list!\n",
    "print ('r2 shape:',r2.shape) # prints (2,3)\n",
    "print (r2[0,1],r2[1,1])\n"
   ]
  },
  {
   "cell_type": "markdown",
   "metadata": {},
   "source": [
    "NumPy also has a bunch of functions that allow to create simple arrays"
   ]
  },
  {
   "cell_type": "code",
   "execution_count": 28,
   "metadata": {},
   "outputs": [
    {
     "name": "stdout",
     "output_type": "stream",
     "text": [
      "[[ 0.  0.  0.]\n",
      " [ 0.  0.  0.]]\n"
     ]
    }
   ],
   "source": [
    "z = np.zeros((2,3)) # Create a 2x3 array of zeros\n",
    "print (z)"
   ]
  },
  {
   "cell_type": "code",
   "execution_count": 27,
   "metadata": {},
   "outputs": [
    {
     "name": "stdout",
     "output_type": "stream",
     "text": [
      "[[ 1.  1.  1.]\n",
      " [ 1.  1.  1.]\n",
      " [ 1.  1.  1.]]\n"
     ]
    }
   ],
   "source": [
    "one = np.ones((3,3))# Create an array of ones\n",
    "print(one)"
   ]
  },
  {
   "cell_type": "code",
   "execution_count": 30,
   "metadata": {},
   "outputs": [
    {
     "name": "stdout",
     "output_type": "stream",
     "text": [
      "[[7 7 7]\n",
      " [7 7 7]]\n"
     ]
    }
   ],
   "source": [
    "c = np.full((2,3),7)# Create an array of constants\n",
    "print(c)"
   ]
  },
  {
   "cell_type": "code",
   "execution_count": 32,
   "metadata": {},
   "outputs": [
    {
     "name": "stdout",
     "output_type": "stream",
     "text": [
      "[[ 1.  0.  0.  0.  0.]\n",
      " [ 0.  1.  0.  0.  0.]\n",
      " [ 0.  0.  1.  0.  0.]\n",
      " [ 0.  0.  0.  1.  0.]\n",
      " [ 0.  0.  0.  0.  1.]]\n"
     ]
    }
   ],
   "source": [
    "identity = np.eye(5) # Creates 5x5 identity matrix\n",
    "print (identity)"
   ]
  },
  {
   "cell_type": "code",
   "execution_count": 34,
   "metadata": {},
   "outputs": [
    {
     "name": "stdout",
     "output_type": "stream",
     "text": [
      "[[ 0.87757053  0.78561909]\n",
      " [ 0.87791236  0.45503234]]\n"
     ]
    }
   ],
   "source": [
    "rand = np.random.random((2,2)) # Creates an array filled with random numbers\n",
    "print (rand)"
   ]
  },
  {
   "cell_type": "markdown",
   "metadata": {},
   "source": [
    "**arange()** will create arrays with regularly incrementing values"
   ]
  },
  {
   "cell_type": "code",
   "execution_count": 40,
   "metadata": {},
   "outputs": [
    {
     "name": "stdout",
     "output_type": "stream",
     "text": [
      "[0 1 2 3 4 5 6 7 8]\n",
      " \n",
      "[3 4 5 6 7 8 9]\n",
      " \n",
      "[ 5.    5.25  5.5   5.75  6.    6.25  6.5   6.75  7.    7.25  7.5   7.75\n",
      "  8.    8.25  8.5   8.75  9.    9.25  9.5   9.75]\n",
      " \n"
     ]
    }
   ],
   "source": [
    "arr1 = np.arange(9)\n",
    "print (arr1)\n",
    "print (\" \")\n",
    "arr2 = np.arange(3,10)\n",
    "print (arr2)\n",
    "print (\" \")\n",
    "arr3 = np.arange(5,10,0.25)\n",
    "print (arr3)\n",
    "print (\" \")"
   ]
  },
  {
   "cell_type": "markdown",
   "metadata": {},
   "source": [
    "**linspace()** will create arrays with a specified number of elements, and spaced equally between the specified beginning and end values. \n",
    "\n",
    "**linspace()** has an advantage over the **arange()**: the former can guarantee the number of elements and the starting and end point, which arange() generally will not do for arbitrary start, stop, and step values."
   ]
  },
  {
   "cell_type": "code",
   "execution_count": 46,
   "metadata": {},
   "outputs": [
    {
     "name": "stdout",
     "output_type": "stream",
     "text": [
      "[ 1.   1.6  2.2  2.8  3.4  4. ]\n",
      "[ 2.  5.  8.]\n"
     ]
    }
   ],
   "source": [
    "l1 = np.linspace(1,4,6) # 1 is a starting point, 4 is an end, 6 is a step . Note that the end is included!\n",
    "print(l1)\n",
    "\n",
    "l2 = np.linspace(2,8,3)\n",
    "print(l2)"
   ]
  },
  {
   "cell_type": "code",
   "execution_count": 3,
   "metadata": {},
   "outputs": [
    {
     "name": "stdout",
     "output_type": "stream",
     "text": [
      "[1 3 5 7 9]\n",
      "[  1.  10.]\n"
     ]
    }
   ],
   "source": [
    "#Exercise1: Are a and b the same?\n",
    "\n",
    "a = np.arange(1,10,2)\n",
    "b = np.linspace(1,10,2)\n",
    "print(a)\n",
    "print(b)"
   ]
  },
  {
   "cell_type": "markdown",
   "metadata": {},
   "source": [
    "<a id = 'array_index'></a>\n",
    "### 1.1 Array indexing"
   ]
  },
  {
   "cell_type": "markdown",
   "metadata": {},
   "source": [
    "There are several ways to index into arrays.\n"
   ]
  },
  {
   "cell_type": "markdown",
   "metadata": {},
   "source": [
    "<a id = 'array_index1'></a>\n",
    "#### 1.1.1 Array slicing\n",
    "Similar to Python lists, to access the elements of an array, we can slice them. However, keep in mind that since arrays may be multidimensional, you must specify a slice for each dimension of the array."
   ]
  },
  {
   "cell_type": "code",
   "execution_count": 23,
   "metadata": {},
   "outputs": [
    {
     "data": {
      "text/plain": [
       "array([[ 1,  2,  3,  4],\n",
       "       [ 5,  6,  7,  8],\n",
       "       [ 9, 10, 11, 12]])"
      ]
     },
     "execution_count": 23,
     "metadata": {},
     "output_type": "execute_result"
    }
   ],
   "source": [
    "import numpy as np\n",
    "a = np.array([[1,2,3,4],[5,6,7,8],[9,10,11,12]])\n",
    "a"
   ]
  },
  {
   "cell_type": "code",
   "execution_count": 29,
   "metadata": {},
   "outputs": [
    {
     "data": {
      "text/plain": [
       "array([[2, 3],\n",
       "       [6, 7]])"
      ]
     },
     "execution_count": 29,
     "metadata": {},
     "output_type": "execute_result"
    }
   ],
   "source": [
    "b = a[:2,1:3] # get first two rows and 2nd and 3rd columns\n",
    "b"
   ]
  },
  {
   "cell_type": "markdown",
   "metadata": {},
   "source": [
    "**Note!** A slice of an array is a view into the same data, so modifying it will modify the original array."
   ]
  },
  {
   "cell_type": "code",
   "execution_count": 24,
   "metadata": {},
   "outputs": [
    {
     "name": "stdout",
     "output_type": "stream",
     "text": [
      "2\n"
     ]
    }
   ],
   "source": [
    "print(a[0,1])"
   ]
  },
  {
   "cell_type": "code",
   "execution_count": 30,
   "metadata": {},
   "outputs": [],
   "source": [
    "b[0,0]=77"
   ]
  },
  {
   "cell_type": "code",
   "execution_count": 31,
   "metadata": {},
   "outputs": [
    {
     "data": {
      "text/plain": [
       "array([[77,  3],\n",
       "       [ 6,  7]])"
      ]
     },
     "execution_count": 31,
     "metadata": {},
     "output_type": "execute_result"
    }
   ],
   "source": [
    "b"
   ]
  },
  {
   "cell_type": "code",
   "execution_count": 33,
   "metadata": {},
   "outputs": [
    {
     "name": "stdout",
     "output_type": "stream",
     "text": [
      "77\n"
     ]
    }
   ],
   "source": [
    "print(a[0,1])"
   ]
  },
  {
   "cell_type": "code",
   "execution_count": 36,
   "metadata": {},
   "outputs": [
    {
     "name": "stdout",
     "output_type": "stream",
     "text": [
      "99\n"
     ]
    }
   ],
   "source": [
    "# Exercise2\n",
    "a = np.array([[1,2,3,4],[5,6,7,8],[9,10,11,12]])\n",
    "b = a[:2,1:3] # get first two rows and 2nd and 3rd columns\n",
    "b[0,0]=99\n",
    "# What is the output of the following line?\n",
    "print(a[0,1])"
   ]
  },
  {
   "cell_type": "markdown",
   "metadata": {},
   "source": [
    "We can also **mix integer indexing with slicing indexing**. However, doing so will result in **an array of lower rank**"
   ]
  },
  {
   "cell_type": "code",
   "execution_count": 45,
   "metadata": {},
   "outputs": [
    {
     "name": "stdout",
     "output_type": "stream",
     "text": [
      "[[ 1  2  3  4]\n",
      " [ 5  6  7  8]\n",
      " [ 9 10 11 12]]\n",
      "shape a: (3, 4)\n",
      "[5 6 7 8]\n",
      "shape of r1: (4,)\n",
      "[[5 6 7 8]]\n",
      "shape of r2: (1, 4)\n"
     ]
    }
   ],
   "source": [
    "a = np.array([[1,2,3,4],[5,6,7,8],[9,10,11,12]])\n",
    "print(a)\n",
    "print('shape a:',a.shape)\n",
    "row_r1 = a[1,:] # returns a rank 1 view of the second row of a\n",
    "print(row_r1)\n",
    "print('shape of row_r1:',row_r1.shape)\n",
    "row_r2 = a[1:2,:] # returns rank 2 view of the second row of a\n",
    "print(row_r2)\n",
    "print('shape of row_r2:',row_r2.shape)"
   ]
  },
  {
   "cell_type": "code",
   "execution_count": 49,
   "metadata": {},
   "outputs": [
    {
     "name": "stdout",
     "output_type": "stream",
     "text": [
      "[ 2  6 10]\n",
      "shape of col_r1: (3,)\n",
      "[[ 2]\n",
      " [ 6]\n",
      " [10]]\n",
      "shape of col_r2: (3, 1)\n"
     ]
    }
   ],
   "source": [
    "# Same distinction with columns\n",
    "col_r1 = a[:,1] # returns a rank 1 view of the second column of a\n",
    "print(col_r1)\n",
    "print('shape of col_r1:',col_r1.shape)\n",
    "col_r2 = a[:, 1:2] # returns rank 2 view of the second row of a\n",
    "print(col_r2)\n",
    "print('shape of col_r2:',col_r2.shape)"
   ]
  },
  {
   "cell_type": "markdown",
   "metadata": {},
   "source": [
    "<a id ='array_index2'></a>\n",
    "#### 1.1.2 Integer array indexing\n",
    "\n",
    "With slicing, you create a view which is always a subarray of the original array. In contrast, with **integer indexing** you can construct arbitrary array using the data from another array."
   ]
  },
  {
   "cell_type": "code",
   "execution_count": 6,
   "metadata": {},
   "outputs": [
    {
     "name": "stdout",
     "output_type": "stream",
     "text": [
      "[1 5 9]\n",
      "[1 5 9]\n",
      "[2 2]\n",
      "[2 2]\n"
     ]
    }
   ],
   "source": [
    "a = np.array([[1,2,3],[4,5,6],[7,8,9]])\n",
    "\n",
    "b= a[[0,1,2],[0,1,2]] # First list indicates on the array's dimension; 2nd list - on the element within each of the dimensions\n",
    "print(b)\n",
    "\n",
    "#OR equivalently, you can do integer indexing in the other way:\n",
    "\n",
    "c =np.array([a[0,0],a[1,1],a[2,2]])\n",
    "print(c)\n",
    "\n",
    "\n",
    "# Exercise: what is the output of the following code?\n",
    "a = np.array([[1,2,3],[4,5,6],[7,8,9]])\n",
    "print(a[[0, 0], [1, 1]])\n",
    "\n",
    "\n",
    "# Equivalent to the previous integer array indexing example\n",
    "print(np.array([a[0,1],a[0,1]]))\n",
    "\n"
   ]
  },
  {
   "cell_type": "markdown",
   "metadata": {},
   "source": [
    "**Useful trick**:  with integer array indexing we can select or mutate one element from each row of a matrix:"
   ]
  },
  {
   "cell_type": "code",
   "execution_count": 33,
   "metadata": {},
   "outputs": [
    {
     "name": "stdout",
     "output_type": "stream",
     "text": [
      "[ 1  5  9 12]\n",
      "[[11  2  3]\n",
      " [ 4 15  6]\n",
      " [ 7  8 19]\n",
      " [10 11 22]]\n",
      "[[21  2  3]\n",
      " [ 4 25  6]\n",
      " [ 7  8 29]\n",
      " [10 11 32]]\n"
     ]
    }
   ],
   "source": [
    "# Create an array from which we will select values\n",
    "\n",
    "a = np.array([[1,2,3],[4,5,6],[7,8,9],[10,11,12]])\n",
    "\n",
    "# Create an array of indices\n",
    "\n",
    "idx = np.array([0,1,2,2])\n",
    "\n",
    "#Print one element of each row of a using idx\n",
    "print(a[np.arange(4),idx])\n",
    "\n",
    "# Mutate one element from each row of a using the indices in idx\n",
    "\n",
    "a[np.arange(4),idx]+=10\n",
    "\n",
    "#a[np.arange(4),idx].copy+=12\n",
    "print(a)\n",
    "a.copy()[np.arange(4),idx]+=10\n",
    "print(a)"
   ]
  },
  {
   "cell_type": "code",
   "execution_count": 61,
   "metadata": {},
   "outputs": [
    {
     "name": "stdout",
     "output_type": "stream",
     "text": [
      "[[ 2  2  3]\n",
      " [ 4  6  6]\n",
      " [ 7  8 10]\n",
      " [10 11 13]]\n"
     ]
    }
   ],
   "source": [
    "# Exercise: what is the output of the following code?\n",
    "a = np.array([[1,2,3],[4,5,6],[7,8,9],[10,11,12]])\n",
    "idx = np.array([0,1,2,2])\n",
    "\n",
    "a[np.arange(4),idx]+=np.array([1,1,1,1])\n",
    "a.copy()[np.arange(4),idx]+=10\n",
    "print(a)"
   ]
  },
  {
   "cell_type": "code",
   "execution_count": 63,
   "metadata": {},
   "outputs": [
    {
     "name": "stdout",
     "output_type": "stream",
     "text": [
      "[[100   2   3]\n",
      " [  4 104   6]\n",
      " [  7   8 108]\n",
      " [ 10  11 111]]\n"
     ]
    }
   ],
   "source": [
    "#Answer:\n",
    "a = np.array([[1,2,3],[4,5,6],[7,8,9],[10,11,12]])\n",
    "idx = np.array([0,1,2,2]) # Create an array of indices\n",
    "\n",
    "a[np.arange(4),idx]+=np.array([99,99,99,99]) # Mutate one element from each row of a using the indices in idx. \n",
    "                        #Since slicing produces the view, we will change the original values of a\n",
    "a.copy()[np.arange(4),idx]+=10 #Mutate one element from each row of a COPY of a using the indices in idx\n",
    "print(a)"
   ]
  },
  {
   "cell_type": "markdown",
   "metadata": {},
   "source": [
    "<a id = 'array_index3'></a>\n",
    "#### 1.1.3 Boolean array indexing: \n",
    "\n",
    "Boolean array indexing lets you pick out arbitrary elements of an array. Frequently this type of indexing is used to select the elements of an array that satisfy some condition. Here is an example:"
   ]
  },
  {
   "cell_type": "code",
   "execution_count": 70,
   "metadata": {},
   "outputs": [
    {
     "name": "stdout",
     "output_type": "stream",
     "text": [
      "[[False False]\n",
      " [ True  True]\n",
      " [ True  True]]\n"
     ]
    }
   ],
   "source": [
    "a =  np.array([[1,2],[3,4],[5,6]])\n",
    "bool_idx = (a>2)\n",
    "print(bool_idx)"
   ]
  },
  {
   "cell_type": "code",
   "execution_count": 72,
   "metadata": {},
   "outputs": [
    {
     "name": "stdout",
     "output_type": "stream",
     "text": [
      "2\n",
      "2\n",
      "[2]\n"
     ]
    }
   ],
   "source": [
    "print(a[0][1])\n",
    "print(a[0,1])\n",
    "print([a[0,1]])\n"
   ]
  },
  {
   "cell_type": "code",
   "execution_count": 74,
   "metadata": {},
   "outputs": [],
   "source": [
    "y = (a>=2)"
   ]
  },
  {
   "cell_type": "code",
   "execution_count": 76,
   "metadata": {},
   "outputs": [
    {
     "data": {
      "text/plain": [
       "0.83333333333333337"
      ]
     },
     "execution_count": 76,
     "metadata": {},
     "output_type": "execute_result"
    }
   ],
   "source": [
    "y.mean()"
   ]
  },
  {
   "cell_type": "markdown",
   "metadata": {},
   "source": [
    "<a id = 'array_math'></a>\n",
    "### 1.2 Array math"
   ]
  },
  {
   "cell_type": "code",
   "execution_count": 88,
   "metadata": {},
   "outputs": [
    {
     "name": "stdout",
     "output_type": "stream",
     "text": [
      "[[ 1.  2.]\n",
      " [ 3.  4.]]\n",
      "[[ 5.  6.]\n",
      " [ 7.  8.]]\n",
      "[[  6.   8.]\n",
      " [ 10.  12.]]\n",
      "[[  6.   8.]\n",
      " [ 10.  12.]]\n",
      "[[ 4.  4.]\n",
      " [ 4.  4.]]\n",
      "[[ 4.  4.]\n",
      " [ 4.  4.]]\n",
      "[[  5.  12.]\n",
      " [ 21.  32.]]\n",
      "[[  5.  12.]\n",
      " [ 21.  32.]]\n",
      "[[ 5.          3.        ]\n",
      " [ 2.33333333  2.        ]]\n",
      "[[ 0.2         0.33333333]\n",
      " [ 0.42857143  0.5       ]]\n",
      "[[ 1.          1.41421356]\n",
      " [ 1.73205081  2.        ]]\n"
     ]
    }
   ],
   "source": [
    "x = np.array([[1,2],[3,4]],dtype = np.float64)\n",
    "y = np.array([[5,6],[7,8]],dtype = np.float64)\n",
    "\n",
    "print(x)\n",
    "print(y)\n",
    "#Sum\n",
    "print(x+y)\n",
    "print(np.add(x,y)) #same result\n",
    "\n",
    "#Subtraction\n",
    "print(y-x)\n",
    "print(np.subtract(y,x))\n",
    "\n",
    "#Multiplication\n",
    "print(y*x)\n",
    "print(np.multiply(x,y))\n",
    "\n",
    "#Dividion\n",
    "print(y/x)\n",
    "print(np.divide(x,y))\n",
    "\n",
    "#Elementwise square root\n",
    "print(np.sqrt(x))"
   ]
  },
  {
   "cell_type": "markdown",
   "metadata": {},
   "source": [
    "To compute **inner product** of vectors, or multiply matrix by matrix or vector, we use ```dot``` (as a method or a function)"
   ]
  },
  {
   "cell_type": "code",
   "execution_count": 98,
   "metadata": {},
   "outputs": [
    {
     "name": "stdout",
     "output_type": "stream",
     "text": [
      "4\n",
      "4\n",
      "[ 4.  6.]\n",
      "[ 4.  6.]\n",
      "[[ 19.  22.]\n",
      " [ 43.  50.]]\n"
     ]
    }
   ],
   "source": [
    "# Inner products\n",
    "x = np.array([[1,2],[3,4]],dtype = np.float64)\n",
    "y = np.array([[5,6],[7,8]],dtype = np.float64)\n",
    "\n",
    "v = np.array([1,1])\n",
    "w = np.array([2,2])\n",
    "\n",
    "#Inner product of vectors\n",
    "print(v.dot(w))\n",
    "print(np.dot(v,w))\n",
    "\n",
    "# Matrix - vector product\n",
    "print(v.dot(x))\n",
    "print(np.dot(v,x))\n",
    "\n",
    "#Matrix- matrix multiplication\n",
    "print(np.dot(x,y))"
   ]
  },
  {
   "cell_type": "markdown",
   "metadata": {},
   "source": [
    "<a id = 'pandas'></a>\n",
    "## Pandas Series"
   ]
  },
  {
   "cell_type": "code",
   "execution_count": 100,
   "metadata": {},
   "outputs": [],
   "source": [
    "import pandas as pd"
   ]
  },
  {
   "cell_type": "markdown",
   "metadata": {},
   "source": [
    "Pandas.Series could be created from different data:\n",
    "\n",
    "- scalar\n",
    "    ```python\n",
    "           pd.Series(99)```\n",
    "- NumPy array\n",
    "    ```python\n",
    "            s = pd.Series(np.arange(5))```\n",
    "- Python dict\n",
    "    ```python\n",
    "            d = pd.Series({'a' : 0., 'b' : 1., 'c' : 2.})```"
   ]
  },
  {
   "cell_type": "code",
   "execution_count": 115,
   "metadata": {},
   "outputs": [
    {
     "name": "stdout",
     "output_type": "stream",
     "text": [
      "[0 1 2 3 4]\n",
      "a    0\n",
      "b    1\n",
      "c    2\n",
      "d    3\n",
      "e    4\n",
      "dtype: int64\n"
     ]
    }
   ],
   "source": [
    "# Create pd.Series from NumPy array\n",
    "n = np.arange(5)\n",
    "print(n)\n",
    "s = pd.Series(np.arange(5), index=['a', 'b', 'c', 'd', 'e'])\n",
    "print(s)"
   ]
  },
  {
   "cell_type": "code",
   "execution_count": 117,
   "metadata": {},
   "outputs": [
    {
     "name": "stdout",
     "output_type": "stream",
     "text": [
      "0    99\n",
      "dtype: int64\n"
     ]
    }
   ],
   "source": [
    "# Create pd.Series from scalar\n",
    "print(pd.Series(99))"
   ]
  },
  {
   "cell_type": "code",
   "execution_count": 119,
   "metadata": {},
   "outputs": [
    {
     "name": "stdout",
     "output_type": "stream",
     "text": [
      "a    1.0\n",
      "b    2.0\n",
      "c    3.0\n",
      "dtype: float64\n"
     ]
    }
   ],
   "source": [
    "# Create pd.Series from a dictionary\n",
    "print(pd.Series({'a':1.,'b':2.,'c':3.}))"
   ]
  },
  {
   "cell_type": "code",
   "execution_count": 129,
   "metadata": {},
   "outputs": [
    {
     "name": "stdout",
     "output_type": "stream",
     "text": [
      "[1 2 3]\n",
      "Index(['a', 'b', 'c'], dtype='object')\n",
      "int64\n",
      "object\n"
     ]
    }
   ],
   "source": [
    "# Series values and indices:\n",
    "mySeries = pd.Series({'a':1.,'b':2.,'c':3.}, dtype = 'int')\n",
    "\n",
    "print(mySeries.values)\n",
    "print(mySeries.index)\n",
    "print(mySeries.values.dtype)\n",
    "print(mySeries.index.dtype)"
   ]
  },
  {
   "cell_type": "code",
   "execution_count": 133,
   "metadata": {},
   "outputs": [
    {
     "data": {
      "text/plain": [
       "a    0.0\n",
       "b    1.0\n",
       "c    2.0\n",
       "d    3.0\n",
       "e    4.0\n",
       "dtype: float64"
      ]
     },
     "execution_count": 133,
     "metadata": {},
     "output_type": "execute_result"
    }
   ],
   "source": [
    "# Another way of speeding the assigning the non-numerical indices:\n",
    "import string\n",
    "mySeries2 = pd.Series(np.arange(5),index = list(string.ascii_lowercase[0:len(np.arange(5))]), dtype = 'float')\n",
    "mySeries2"
   ]
  },
  {
   "cell_type": "code",
   "execution_count": 174,
   "metadata": {},
   "outputs": [
    {
     "name": "stdout",
     "output_type": "stream",
     "text": [
      "d    3.0\n",
      "e    4.0\n",
      "dtype: float64\n",
      "a    0.0\n",
      "b    1.0\n",
      "c    2.0\n",
      "dtype: float64\n",
      "a    0.0\n",
      "c    2.0\n",
      "e    4.0\n",
      "f    NaN\n",
      "dtype: float64\n"
     ]
    },
    {
     "name": "stderr",
     "output_type": "stream",
     "text": [
      "/Users/owner/anaconda/envs/fastai/lib/python3.6/site-packages/pandas/core/series.py:705: FutureWarning: \n",
      "Passing list-likes to .loc or [] with any missing label will raise\n",
      "KeyError in the future, you can use .reindex() as an alternative.\n",
      "\n",
      "See the documentation here:\n",
      "http://pandas.pydata.org/pandas-docs/stable/indexing.html#deprecate-loc-reindex-listlike\n",
      "  return self.loc[key]\n"
     ]
    }
   ],
   "source": [
    "#Exercise:\n",
    "mySeries = pd.Series(np.arange(5),index = list(string.ascii_lowercase[0:len(np.arange(5))]), dtype = 'float')\n",
    "print(mySeries[3:])\n",
    "print(mySeries[:-2])\n",
    "myS = mySeries[['a','c','e','f']] \n",
    "print(myS)"
   ]
  },
  {
   "cell_type": "code",
   "execution_count": 177,
   "metadata": {},
   "outputs": [
    {
     "name": "stdout",
     "output_type": "stream",
     "text": [
      "d    3.0\n",
      "e    4.0\n",
      "dtype: float64\n",
      "a    0.0\n",
      "b    1.0\n",
      "c    2.0\n",
      "dtype: float64\n",
      "a    0.0\n",
      "c    2.0\n",
      "e    4.0\n",
      "f    NaN\n",
      "dtype: float64\n"
     ]
    },
    {
     "name": "stderr",
     "output_type": "stream",
     "text": [
      "/Users/owner/anaconda/envs/fastai/lib/python3.6/site-packages/pandas/core/series.py:705: FutureWarning: \n",
      "Passing list-likes to .loc or [] with any missing label will raise\n",
      "KeyError in the future, you can use .reindex() as an alternative.\n",
      "\n",
      "See the documentation here:\n",
      "http://pandas.pydata.org/pandas-docs/stable/indexing.html#deprecate-loc-reindex-listlike\n",
      "  return self.loc[key]\n"
     ]
    }
   ],
   "source": [
    "#Answer:\n",
    "mySeries = pd.Series(np.arange(5),index = list(string.ascii_lowercase[0:len(np.arange(5))]), dtype = 'float')\n",
    "print(mySeries[3:])\n",
    "print(mySeries[:-2])\n",
    "myS = mySeries[['a','c','e','f']] \n",
    "print(myS) # doesn't raise the error but adds an index 'f' with value NaN"
   ]
  },
  {
   "cell_type": "markdown",
   "metadata": {},
   "source": [
    "When using non-zero based integer indices we might quickly get confused."
   ]
  },
  {
   "cell_type": "code",
   "execution_count": 140,
   "metadata": {},
   "outputs": [
    {
     "name": "stdout",
     "output_type": "stream",
     "text": [
      "11     6\n",
      "12     7\n",
      "13     8\n",
      "14     9\n",
      "15    10\n",
      "dtype: int64\n",
      "7\n"
     ]
    },
    {
     "ename": "KeyError",
     "evalue": "1",
     "output_type": "error",
     "traceback": [
      "\u001b[0;31m---------------------------------------------------------------------------\u001b[0m",
      "\u001b[0;31mKeyError\u001b[0m                                  Traceback (most recent call last)",
      "\u001b[0;32m<ipython-input-140-24c4054200ba>\u001b[0m in \u001b[0;36m<module>\u001b[0;34m()\u001b[0m\n\u001b[1;32m      5\u001b[0m \u001b[0;34m\u001b[0m\u001b[0m\n\u001b[1;32m      6\u001b[0m \u001b[0;31m#What if I don't know the indexing and just want to acces the 1-st element?\u001b[0m\u001b[0;34m\u001b[0m\u001b[0;34m\u001b[0m\u001b[0m\n\u001b[0;32m----> 7\u001b[0;31m \u001b[0mprint\u001b[0m\u001b[0;34m(\u001b[0m\u001b[0mmySeries3\u001b[0m\u001b[0;34m[\u001b[0m\u001b[0;36m1\u001b[0m\u001b[0;34m]\u001b[0m\u001b[0;34m)\u001b[0m\u001b[0;34m\u001b[0m\u001b[0m\n\u001b[0m",
      "\u001b[0;32m~/anaconda/envs/fastai/lib/python3.6/site-packages/pandas/core/series.py\u001b[0m in \u001b[0;36m__getitem__\u001b[0;34m(self, key)\u001b[0m\n\u001b[1;32m    621\u001b[0m         \u001b[0mkey\u001b[0m \u001b[0;34m=\u001b[0m \u001b[0mcom\u001b[0m\u001b[0;34m.\u001b[0m\u001b[0m_apply_if_callable\u001b[0m\u001b[0;34m(\u001b[0m\u001b[0mkey\u001b[0m\u001b[0;34m,\u001b[0m \u001b[0mself\u001b[0m\u001b[0;34m)\u001b[0m\u001b[0;34m\u001b[0m\u001b[0m\n\u001b[1;32m    622\u001b[0m         \u001b[0;32mtry\u001b[0m\u001b[0;34m:\u001b[0m\u001b[0;34m\u001b[0m\u001b[0m\n\u001b[0;32m--> 623\u001b[0;31m             \u001b[0mresult\u001b[0m \u001b[0;34m=\u001b[0m \u001b[0mself\u001b[0m\u001b[0;34m.\u001b[0m\u001b[0mindex\u001b[0m\u001b[0;34m.\u001b[0m\u001b[0mget_value\u001b[0m\u001b[0;34m(\u001b[0m\u001b[0mself\u001b[0m\u001b[0;34m,\u001b[0m \u001b[0mkey\u001b[0m\u001b[0;34m)\u001b[0m\u001b[0;34m\u001b[0m\u001b[0m\n\u001b[0m\u001b[1;32m    624\u001b[0m \u001b[0;34m\u001b[0m\u001b[0m\n\u001b[1;32m    625\u001b[0m             \u001b[0;32mif\u001b[0m \u001b[0;32mnot\u001b[0m \u001b[0mis_scalar\u001b[0m\u001b[0;34m(\u001b[0m\u001b[0mresult\u001b[0m\u001b[0;34m)\u001b[0m\u001b[0;34m:\u001b[0m\u001b[0;34m\u001b[0m\u001b[0m\n",
      "\u001b[0;32m~/anaconda/envs/fastai/lib/python3.6/site-packages/pandas/core/indexes/base.py\u001b[0m in \u001b[0;36mget_value\u001b[0;34m(self, series, key)\u001b[0m\n\u001b[1;32m   2555\u001b[0m         \u001b[0;32mtry\u001b[0m\u001b[0;34m:\u001b[0m\u001b[0;34m\u001b[0m\u001b[0m\n\u001b[1;32m   2556\u001b[0m             return self._engine.get_value(s, k,\n\u001b[0;32m-> 2557\u001b[0;31m                                           tz=getattr(series.dtype, 'tz', None))\n\u001b[0m\u001b[1;32m   2558\u001b[0m         \u001b[0;32mexcept\u001b[0m \u001b[0mKeyError\u001b[0m \u001b[0;32mas\u001b[0m \u001b[0me1\u001b[0m\u001b[0;34m:\u001b[0m\u001b[0;34m\u001b[0m\u001b[0m\n\u001b[1;32m   2559\u001b[0m             \u001b[0;32mif\u001b[0m \u001b[0mlen\u001b[0m\u001b[0;34m(\u001b[0m\u001b[0mself\u001b[0m\u001b[0;34m)\u001b[0m \u001b[0;34m>\u001b[0m \u001b[0;36m0\u001b[0m \u001b[0;32mand\u001b[0m \u001b[0mself\u001b[0m\u001b[0;34m.\u001b[0m\u001b[0minferred_type\u001b[0m \u001b[0;32min\u001b[0m \u001b[0;34m[\u001b[0m\u001b[0;34m'integer'\u001b[0m\u001b[0;34m,\u001b[0m \u001b[0;34m'boolean'\u001b[0m\u001b[0;34m]\u001b[0m\u001b[0;34m:\u001b[0m\u001b[0;34m\u001b[0m\u001b[0m\n",
      "\u001b[0;32mpandas/_libs/index.pyx\u001b[0m in \u001b[0;36mpandas._libs.index.IndexEngine.get_value\u001b[0;34m()\u001b[0m\n",
      "\u001b[0;32mpandas/_libs/index.pyx\u001b[0m in \u001b[0;36mpandas._libs.index.IndexEngine.get_value\u001b[0;34m()\u001b[0m\n",
      "\u001b[0;32mpandas/_libs/index.pyx\u001b[0m in \u001b[0;36mpandas._libs.index.IndexEngine.get_loc\u001b[0;34m()\u001b[0m\n",
      "\u001b[0;32mpandas/_libs/hashtable_class_helper.pxi\u001b[0m in \u001b[0;36mpandas._libs.hashtable.Int64HashTable.get_item\u001b[0;34m()\u001b[0m\n",
      "\u001b[0;32mpandas/_libs/hashtable_class_helper.pxi\u001b[0m in \u001b[0;36mpandas._libs.hashtable.Int64HashTable.get_item\u001b[0;34m()\u001b[0m\n",
      "\u001b[0;31mKeyError\u001b[0m: 1"
     ]
    }
   ],
   "source": [
    "#Example\n",
    "mySeries3 = pd.Series(np.arange(6,11), index = np.arange(11,16))\n",
    "print(mySeries3)\n",
    "print(mySeries3[12])\n",
    "\n",
    "#What if I don't know the indexing and just want to acces the 1-st element?\n",
    "print(mySeries3[1]) # get an ERROR"
   ]
  },
  {
   "cell_type": "markdown",
   "metadata": {},
   "source": [
    "**Hint:** use ```.iloc[]``` for a position based lookup and ```.loc[]``` for a label-based lookup"
   ]
  },
  {
   "cell_type": "code",
   "execution_count": 146,
   "metadata": {},
   "outputs": [
    {
     "name": "stdout",
     "output_type": "stream",
     "text": [
      "7\n",
      "7\n"
     ]
    }
   ],
   "source": [
    "print(mySeries3.iloc[1])# postion-based search\n",
    "print(mySeries3.loc[12]) # label-based search"
   ]
  },
  {
   "cell_type": "markdown",
   "metadata": {},
   "source": [
    "<a id = 'pandas_alignment'></a>\n",
    "### Alignment of Series objects\n",
    "\n",
    "**Notes**:\n",
    " - *Addition* of Series objects associates values with **mathcing** indices\n",
    " - *Addition* of Series objects with **non-mathcing** indices produces ```NaN```s"
   ]
  },
  {
   "cell_type": "code",
   "execution_count": 148,
   "metadata": {},
   "outputs": [
    {
     "name": "stdout",
     "output_type": "stream",
     "text": [
      "alpha       NaN\n",
      "beta      102.0\n",
      "gamma     104.0\n",
      "kappa       NaN\n",
      "lambda      NaN\n",
      "phi         NaN\n",
      "dtype: float64\n"
     ]
    }
   ],
   "source": [
    "s1 = pd.Series([1,2,3,4],index = ['alpha','beta','gamma','kappa'])\n",
    "s2 = pd.Series([100,101,102,103],index = ['beta','gamma','lambda','phi'])\n",
    "print(s1+s2)"
   ]
  },
  {
   "cell_type": "markdown",
   "metadata": {},
   "source": [
    "Series Object does not require index to be unique! This might cause a confusion when doing operations"
   ]
  },
  {
   "cell_type": "code",
   "execution_count": 152,
   "metadata": {},
   "outputs": [
    {
     "name": "stdout",
     "output_type": "stream",
     "text": [
      "a    101.0\n",
      "a    102.0\n",
      "a    103.0\n",
      "a    104.0\n",
      "b      NaN\n",
      "d    106.0\n",
      "l      NaN\n",
      "dtype: float64\n"
     ]
    }
   ],
   "source": [
    "s1 = pd.Series([1,2,3,4],index = ['a','b','a','d'])\n",
    "s2 = pd.Series([100,101,102,103],index = ['a','a','d','l'])\n",
    "print(s1+s2) # Creates a cartesian object of the set of all unique index labels in both series objects"
   ]
  },
  {
   "cell_type": "code",
   "execution_count": 113,
   "metadata": {},
   "outputs": [
    {
     "name": "stdout",
     "output_type": "stream",
     "text": [
      "[1 2 3 4]\n",
      "b    1\n",
      "c    2\n",
      "d    3\n",
      "e    4\n",
      "dtype: int64\n",
      "[1 3 5 7]\n",
      "a    NaN\n",
      "b    2.0\n",
      "c    4.0\n",
      "d    6.0\n",
      "e    NaN\n",
      "dtype: float64\n"
     ]
    }
   ],
   "source": [
    "#Exercise:\n",
    "#Are the values of NumPy array and Pandas Series the same (ignoring the series index): \n",
    "n = np.arange(5)\n",
    "s = pd.Series(np.arange(5), index=['a', 'b', 'c', 'd', 'e'])\n",
    "print(n[1:])\n",
    "print(s[1:])\n",
    "# How about the results of these operations?\n",
    "print(n[1:]+n[:-1])\n",
    "print(s[1:]+s[:-1])"
   ]
  },
  {
   "cell_type": "code",
   "execution_count": 114,
   "metadata": {},
   "outputs": [
    {
     "name": "stdout",
     "output_type": "stream",
     "text": [
      "[1 2 3 4]\n",
      "b    1\n",
      "c    2\n",
      "d    3\n",
      "e    4\n",
      "dtype: int64\n",
      "[1 3 5 7]\n",
      "a    NaN\n",
      "b    2.0\n",
      "c    4.0\n",
      "d    6.0\n",
      "e    NaN\n",
      "dtype: float64\n"
     ]
    }
   ],
   "source": [
    "#Answer\n",
    "#Are the values of NumPy array and Pandas Series the same (ignoring the series index): \n",
    "n = np.arange(5)\n",
    "s = pd.Series(np.arange(5), index=['a', 'b', 'c', 'd', 'e'])\n",
    "print(n[1:])\n",
    "print(s[1:]) # yes, we get the same values 1,2,3,4\n",
    "\n",
    "\n",
    "# How about the results of these operations?\n",
    "print(n[1:]+n[:-1])\n",
    "print(s[1:]+s[:-1]) # Pandas series adds the values with the same index! If the index is missing, NaN is produces"
   ]
  },
  {
   "cell_type": "markdown",
   "metadata": {},
   "source": [
    "**Miscelaneous**:\n",
    "- Pandas *ignores NaNs* when running operations on Series\n",
    "- NumPy *does not* ignore NaNs when running opeartions on Arrays\n"
   ]
  },
  {
   "cell_type": "code",
   "execution_count": 160,
   "metadata": {},
   "outputs": [
    {
     "name": "stdout",
     "output_type": "stream",
     "text": [
      "a    101.0\n",
      "a    102.0\n",
      "a    103.0\n",
      "a    104.0\n",
      "b      NaN\n",
      "d    106.0\n",
      "l      NaN\n",
      "dtype: float64\n",
      "a    0.0\n",
      "a    1.0\n",
      "a    2.0\n",
      "a    3.0\n",
      "b    4.0\n",
      "d    5.0\n",
      "l    6.0\n",
      "dtype: float64\n",
      "a    101.0\n",
      "a    103.0\n",
      "a    105.0\n",
      "a    107.0\n",
      "b      NaN\n",
      "d    111.0\n",
      "l      NaN\n",
      "dtype: float64\n"
     ]
    }
   ],
   "source": [
    "s3 = s1+s2\n",
    "print(s3)\n",
    "s4 = pd.Series(np.arange(7),index = s3.index, dtype = 'float')\n",
    "print(s4)\n",
    "print(s3+s4)"
   ]
  },
  {
   "cell_type": "code",
   "execution_count": 165,
   "metadata": {},
   "outputs": [
    {
     "name": "stdout",
     "output_type": "stream",
     "text": [
      "[  1.   2.   3.  nan   5.]\n",
      "[  2.   3.   4.   5.  nan]\n",
      "[  3.   5.   7.  nan  nan]\n"
     ]
    }
   ],
   "source": [
    "n1 = np.array([1,2,3,np.NaN,5])\n",
    "n2 = np.array([2,3,4,5,np.nan])\n",
    "print(n1)\n",
    "print(n2)\n",
    "print(n1+n2)"
   ]
  },
  {
   "cell_type": "code",
   "execution_count": 170,
   "metadata": {},
   "outputs": [
    {
     "name": "stdout",
     "output_type": "stream",
     "text": [
      "a    False\n",
      "b     True\n",
      "a     True\n",
      "d     True\n",
      "dtype: bool\n",
      "False\n",
      "True\n"
     ]
    }
   ],
   "source": [
    "s_b = s1>1\n",
    "print(s_b)\n",
    "print(s_b.all())\n",
    "print(s_b.any())"
   ]
  },
  {
   "cell_type": "code",
   "execution_count": null,
   "metadata": {},
   "outputs": [],
   "source": []
  }
 ],
 "metadata": {
  "kernelspec": {
   "display_name": "Python 3",
   "language": "python",
   "name": "python3"
  },
  "language_info": {
   "codemirror_mode": {
    "name": "ipython",
    "version": 3
   },
   "file_extension": ".py",
   "mimetype": "text/x-python",
   "name": "python",
   "nbconvert_exporter": "python",
   "pygments_lexer": "ipython3",
   "version": "3.6.3"
  }
 },
 "nbformat": 4,
 "nbformat_minor": 2
}
