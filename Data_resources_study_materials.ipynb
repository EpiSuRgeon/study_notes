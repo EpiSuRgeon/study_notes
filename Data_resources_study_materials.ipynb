{
 "cells": [
  {
   "cell_type": "markdown",
   "metadata": {
    "collapsed": true
   },
   "source": [
    "### Useful ML resources and iPython Notebooks\n"
   ]
  },
  {
   "cell_type": "markdown",
   "metadata": {},
   "source": [
    "1. A gallery of interesting iPython Notebooks\n",
    "<https://github.com/jupyter/jupyter/wiki/A-gallery-of-interesting-Jupyter-Notebooks>\n",
    "   - **iPython notebooks accompanying ISL (Intro to Statistical Learning):** <https://github.com/thomas-haslwanter/statsintro_python>\n",
    "     - Introduction to **statsmodel** and **Pandas** libraries: \n",
    "         <https://github.com/thomas-haslwanter/statsintro_python/blob/master/ipynb/11_statsmodelsIntro.ipynb>\n",
    "     - Another manual referenced there: http://nbviewer.jupyter.org/gist/vincentarelbundock/3485014\n",
    "     - Simple regression: <https://github.com/thomas-haslwanter/statsintro_python/blob/master/ipynb/11_simpleLinearModels.ipynb>\n",
    "     - Examples of multiple LR (including interactions) and ANOVA: <https://github.com/thomas-haslwanter/statsintro_python/blob/master/ipynb/11_regressionModels.ipynb>\n",
    "     - Performing regression analysis, residual analusis and hypothesis testing: <https://github.com/thomas-haslwanter/statsintro_python/blob/master/ipynb/11_paramsRegAnalysis.ipynb>\n",
    "   - **Andrew Ng's course in Python:**\n",
    "      - Linear regression gradient descent exercise: <https://github.com/jdwittenauer/ipython-notebooks/blob/master/notebooks/ml/ML-Exercise1.ipynb>\n",
    "      - Logistic regression\n",
    "   - **Statsmodel tutorial notebooks:** <http://www.statsmodels.org/devel/examples/index.html#regression>\n",
    "2. **Data Science iPyhton notebooks**: <https://github.com/donnemartin/data-science-ipython-notebooks>\n",
    "3. **Awesome Machine Learning** Links to Python libraries on Data visualisation, ML, NLP etc. \n",
    "<https://github.com/josephmisiti/awesome-machine-learning#python>"
   ]
  },
  {
   "cell_type": "markdown",
   "metadata": {},
   "source": [
    "**DATA:**\n",
    "1. **Regression**\n",
    "    - *Las Vegas Trip advisor*: <http://archive.ics.uci.edu/ml/datasets/Las+Vegas+Strip#>:\n",
    "505 observations, 20 variables. Users' reviews of their stays at Las Vegas hotels\n",
    "    - From ISL: http://vincentarelbundock.github.com/Rdatasets/csv/Guerry.csv \n",
    "A collection of historical data used in support of Andre-Michel Guerry's 1833 Essay on the Moral Statistics of France\n",
    "    - From ISM (Kaplan): 10-mile race <https://github.com/thomas-haslwanter/statsintro_python/blob/master/ipynb/Data/data_kaplan/ten-mile-race.csv> \n",
    "8637 observations, 5 variables. Performance (in seconds) of each athlete in a 10-mile race.\n",
    "    - From ISM (Kaplan): 100m swimmers: https://github.com/thomas-haslwanter/statsintro_python/blob/master/ipynb/Data/data_kaplan/swim100m.csv\n",
    "64 observations, 3 variables. Performance of swimmers\n",
    "    - Stanford Stats 191 class data: http://web.stanford.edu/class/stats191/data/\n",
    "\n",
    "2. **Classification, regression**\n",
    "    - *Wine quality*: http://archive.ics.uci.edu/ml/datasets/Wine+Quality\n",
    "    - Kaggle competition: House Prices: Advanced Regression Techniques:\n",
    "    https://www.kaggle.com/c/house-prices-advanced-regression-techniques/data\n",
    "    \n",
    "    Great tutorial: https://www.kaggle.com/pmarcelino/comprehensive-data-exploration-with-python\n",
    "3. **Machine Learning data sets**\n",
    "    - http://mlr.cs.umass.edu/ml/machine-learning-databases/?C=M;O=D\n",
    "     \n",
    "     Tutorial: https://elitedatascience.com/python-machine-learning-tutorial-scikit-learn#step-3\n",
    "    "
   ]
  },
  {
   "cell_type": "markdown",
   "metadata": {},
   "source": [
    "### Miscelaneous: \n",
    " - **Matplotlib tutorial (iPython notebook)**: \n",
    "- \n",
    "<http://nbviewer.jupyter.org/github/jrjohansson/scientific-python-lectures/blob/master/Lecture-4-Matplotlib.ipynb>\n",
    "- \n",
    "<https://matplotlib.org/users/pyplot_tutorial.html>\n",
    " - **Seaborn Tutorial** https://elitedatascience.com/python-seaborn-tutorial\n"
   ]
  },
  {
   "cell_type": "markdown",
   "metadata": {
    "collapsed": true
   },
   "source": [
    "**Examples**\n",
    "\n",
    "1. **Data Preparation: EDA, NA's treatment, outliers, correlation matrices**\n",
    "    Kaggle competition: House Prices: Advanced Regression Techniques tutorial:  <https://www.kaggle.com/pmarcelino/comprehensive-data-exploration-with-python>\n"
   ]
  },
  {
   "cell_type": "code",
   "execution_count": null,
   "metadata": {
    "collapsed": true
   },
   "outputs": [],
   "source": []
  }
 ],
 "metadata": {
  "kernelspec": {
   "display_name": "Python 2",
   "language": "python",
   "name": "python2"
  },
  "language_info": {
   "codemirror_mode": {
    "name": "ipython",
    "version": 2
   },
   "file_extension": ".py",
   "mimetype": "text/x-python",
   "name": "python",
   "nbconvert_exporter": "python",
   "pygments_lexer": "ipython2",
   "version": "2.7.13"
  }
 },
 "nbformat": 4,
 "nbformat_minor": 2
}
