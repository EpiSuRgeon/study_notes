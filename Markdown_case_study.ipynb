{
 "cells": [
  {
   "cell_type": "markdown",
   "metadata": {},
   "source": [
    "<a id = 'top'></a>\n",
    "\n",
    "# My first iPython Markdown notebook\n",
    "\n",
    "Jupyter notebook has a tool to create markdown files. Here we will cover some basics of working with iPython Markdown (press on the link to jump to the section)\n",
    "\n",
    "<a href = #section1> $\\S$ 1. What is Markdown?</a>\n",
    "\n",
    "<a href = #section2> $\\S$ 2. How to make a list</a>\n",
    "\n",
    "<a href = #section3> $\\S$ 3. How to create a table</a>\n",
    "\n",
    "<a href = #section4> $\\S$ 4. Formulas </a>\n",
    "\n",
    "<a href = #section5> $\\S$ 5. Colored text boxes </a>\n",
    "\n",
    "<a href = #section6> $\\S$ 6. Bonus tasks </a>\n",
    "\n",
    "***"
   ]
  },
  {
   "cell_type": "markdown",
   "metadata": {},
   "source": [
    "<a id =  'section1'></a>\n",
    "### $\\S$ 1. What is Markdown?\n",
    "\n",
    "\n",
    "As defined by *John Gruber* [here](https://daringfireball.net/projects/markdown/),\n",
    "> Markdown is a **text-to-HTML _conversion tool_** for web writers. Markdown allows you to write using an easy-to-read, easy-to-write plain text format, then convert it to structurally valid XHTML (or HTML) \n",
    "\n",
    "in other words, **Markdown is a tool of _styling_ the text on the web** and controlling the display of the document. Just to name a few capabilities, with Markdown you can easily format the words, e.g. as **bold**, _italic_, ~~striked through~~. \n",
    "You can add images, create lists or tables, insert inline code like `x = [line.split() for line in text]` and do many other things.\n",
    "\n",
    "Mostly, Markdown is simply a regular text with a few non-alphabetic characters thrown in, like \\# or \\*. It is easy to learn and, as with many other things, if you have a question about Markdown, just [Google](http://google.com/) it!\n",
    "\n",
    "<div class=\"alert alert-block alert-info\"> To install Python-Markdown simply type `pip install markdown` from the command line as an Admin/Root user. </div>\n",
    "\n",
    "---"
   ]
  },
  {
   "cell_type": "markdown",
   "metadata": {},
   "source": [
    "<a id = 'section2'></a>\n",
    "### $\\S$ 2. Lists\n",
    "\n",
    "It is easy to create any type of lists in Markdown.\n",
    "\n",
    "Here is the *ordered list*:\n",
    "\n",
    "1. Point one\n",
    "> You can add a citation to support your point!\n",
    "2. Point two\n",
    "3. Point three\n",
    "\n",
    "***"
   ]
  },
  {
   "cell_type": "markdown",
   "metadata": {},
   "source": [
    "An _unordered_ list may look like this:\n",
    "\n",
    "**Common git commands:**\n",
    "\n",
    "- `git init`\n",
    "- `git add`\n",
    "- `git commit`\n",
    "- `git status`\n",
    "- ...\n",
    "\n",
    "---"
   ]
  },
  {
   "cell_type": "markdown",
   "metadata": {},
   "source": [
    "You can easily create *nested lists* as well.\n",
    "\n",
    "**Common `git` commands:**\n",
    "1. *Working  with local repositories*\n",
    "   - `git init`\n",
    "     - To make directory a git repository\n",
    "             git init\n",
    "     - To change directory and make it a git repository\n",
    "             cd /Users/computer-name/code\n",
    "             git init\n",
    "   - `git add`\n",
    "     - To add all files\n",
    "             git add .\n",
    "     - To add a specfic file\n",
    "             git add README.md\n",
    "   - ...\n",
    "2. *Working with remote repositories*\n",
    "   - `git remote`\n",
    "     - To add a remote repository \n",
    "             git remote <command> <remote_name> <remote_URL>\n",
    "   - ...\n",
    "___"
   ]
  },
  {
   "cell_type": "markdown",
   "metadata": {},
   "source": [
    "As you might have already noticed, you can easily insert any code to your markdown cell:\n",
    "\n",
    "```python \n",
    "def print_hello(name):\n",
    "print \"Hello\", name\n",
    "```\n",
    "***"
   ]
  },
  {
   "cell_type": "markdown",
   "metadata": {},
   "source": [
    "<a id = 'section3'></a>\n",
    "### $\\S$ 3. Tables\n",
    "\n",
    "You can fairly easily create tables inside your markdown cell.\n",
    "\n",
    "Try this example.\n",
    "\n",
    "<center> **Table1. Comparison of Python 2.7x and Python 3.x** </center>\n",
    "\n",
    "\n",
    "\n",
    "||Python 2.7.x|Python 3.x\n",
    "|:------------:|------------:|----------:\n",
    "|print function| print('Hello!')|print 'Hello'\n",
    "|integer division| 3/2 = 1| 3/2 = 1.5\n",
    "|xrange function | xrange() | range()\n",
    "\n",
    "\n",
    "***"
   ]
  },
  {
   "cell_type": "markdown",
   "metadata": {},
   "source": [
    "<a id = 'section4'></a>\n",
    "### $\\S$ 4. Formulas\n",
    "\n",
    "In Machine Learning course you will learn a lot of models.\n",
    "Below is the basic linear regression model:\n",
    "<div class=\"alert alert-block alert-warning\">\n",
    "$y_i = \\beta_0 + \\beta_1x_{i1} + \\beta_2x_{i2} + ... + \\beta_px_{ip} +\\epsilon_i =\\beta_0 + \\displaystyle\\sum_{k=1}^{p}{\\beta_kx_{ik}} + \\epsilon_i = \\mathbf{x_i^T\\boldsymbol{\\beta}} + \\epsilon_i$,\n",
    "\n",
    "which can be written in a matrix form as follows:\n",
    "\n",
    "$\\mathbf{y = X\\boldsymbol{\\beta + \\epsilon}}$, </div>\n",
    "\n",
    "<div class=\"alert alert-block alert-warning\">\n",
    "where $\\mathbf{y} =\n",
    "    \\begin{pmatrix}\n",
    "     y_1 \\\\\n",
    "     y_2 \\\\\n",
    "     \\vdots \\\\\n",
    "     y_n\n",
    "    \\end{pmatrix}$, \n",
    "    \n",
    "${X} = \n",
    "    \\begin{pmatrix}\n",
    "     \\mathbf{x_1}^T \\\\\n",
    "     \\mathbf{x_2}^T \\\\\n",
    "     \\vdots \\\\\n",
    "     \\mathbf{x_n}^T\n",
    "    \\end{pmatrix}\n",
    "    = \n",
    "     \\begin{pmatrix}\n",
    "      1 & x_{11} & \\cdots & x_{1p} \\\\\n",
    "      1 & x_{21} & \\cdots & x_{2p} \\\\\n",
    "      \\vdots  & \\vdots  & \\ddots & \\vdots  \\\\\n",
    "      1 & x_{n1} & \\cdots & x_{np} \n",
    "     \\end{pmatrix}$ \n",
    "     \n",
    "</div>    \n",
    "<div class=\"alert alert-block alert-warning\">\n",
    "$\\boldsymbol{\\beta} = \n",
    "   \\begin{pmatrix}\n",
    "     \\beta_0 \\\\\n",
    "     \\beta_1 \\\\\n",
    "     \\beta_2 \\\\\n",
    "     \\vdots \\\\\n",
    "     \\beta_p\n",
    "    \\end{pmatrix} ,\n",
    " \\boldsymbol{\\epsilon} = \n",
    "   \\begin{pmatrix}\n",
    "     \\epsilon_1 \\\\\n",
    "     \\epsilon_2 \\\\\n",
    "     \\vdots \\\\\n",
    "     \\epsilon_n\n",
    "   \\end{pmatrix}$\n",
    "\n",
    "</div>\n",
    "   \n",
    "***"
   ]
  },
  {
   "cell_type": "markdown",
   "metadata": {},
   "source": [
    "<a id = 'section5'></a>\n",
    "\n",
    "### $\\S$ 5. Colored text boxes\n",
    "\n",
    "There are many ways to highlight important messages in your text using Markdown. For example, you can write messages inside the colored text boxes. \n",
    "\n",
    "Below are some **tips** on how to use them most effectively."
   ]
  },
  {
   "cell_type": "markdown",
   "metadata": {},
   "source": [
    "<div class=\"alert alert-block alert-info\"> **Tip**: Use blue boxes for Tips and notes. If it’s a note, you don’t have to include the word “Note”.</div>\n"
   ]
  },
  {
   "cell_type": "markdown",
   "metadata": {},
   "source": [
    "<div class=\"alert alert-block alert-warning\">**Example**: Use yellow boxes for examples that are not inside code cells, or use for mathematical formulas if needed.</div>"
   ]
  },
  {
   "cell_type": "markdown",
   "metadata": {},
   "source": [
    "<div class=\"alert alert-block alert-success\">**Up to you**: Use green boxes sparingly, and only for some specific purpose that the other boxes can't cover. For example, if you have a lot of related content to link to, maybe you decide to use green boxes for related links from each section of a notebook. </div>"
   ]
  },
  {
   "cell_type": "markdown",
   "metadata": {},
   "source": [
    "<div class=\"alert alert-block alert-danger\">**Just don't**: In general, just avoid the red boxes.</div>"
   ]
  },
  {
   "cell_type": "markdown",
   "metadata": {},
   "source": [
    "<a id = 'section6'></a>\n",
    "\n",
    "### $\\S$ 6. Bonus tasks\n",
    "\n",
    "By this point, we are sure, you already know how to insert links into markdown files. \n",
    "\n",
    "Here is a __bonus question__: create the links to the plotting libraries isted below using the list of links.\n",
    "\n",
    "*(Hint: the format of links is as follows: [link1]: < link >)*\n",
    "\n",
    "You will soon learn how to create awesome plots using [matplotlib][1], [ggplot][2] or [seaborn][3] libraries\n",
    "   [1]: https://matplotlib.org/   \"Matplotlib\"\n",
    "   [2]: http://yhat.github.io/ggpy/ \"ggplot\"\n",
    "   [3]: https://seaborn.pydata.org/ \"seaborn\"\n",
    " \n",
    "For now, however, let's just insert any picture from the web. How about this one? ;)\n",
    "\n",
    "![Baracktocat](https://cdn-images-1.medium.com/max/1600/1*6u51C_pl-UH3X3CbggmCjA.png)\n",
    "\n",
    "---\n"
   ]
  },
  {
   "cell_type": "markdown",
   "metadata": {},
   "source": [
    "<a href = '#top'>Jump to the top</a>"
   ]
  }
 ],
 "metadata": {
  "kernelspec": {
   "display_name": "Python 3",
   "language": "python",
   "name": "python3"
  },
  "language_info": {
   "codemirror_mode": {
    "name": "ipython",
    "version": 3
   },
   "file_extension": ".py",
   "mimetype": "text/x-python",
   "name": "python",
   "nbconvert_exporter": "python",
   "pygments_lexer": "ipython3",
   "version": "3.6.3"
  }
 },
 "nbformat": 4,
 "nbformat_minor": 2
}
