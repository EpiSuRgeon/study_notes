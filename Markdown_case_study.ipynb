{
 "cells": [
  {
   "cell_type": "markdown",
   "metadata": {},
   "source": [
    "<a id = 'top'></a>\n",
    "\n",
    "# My first iPython Markdown notebook\n",
    "\n",
    "Jupyter notebook has a tool to create markdown files. Here we will cover some basics of working with iPython markdow (press on the link to jump to the section)\n",
    "\n",
    "<a href = #section1> 1. What is Markdown?</a>\n",
    "\n",
    "<a href = #section2> 2. How to make a list</a>\n",
    "\n",
    "<a href = #section3> 3. How to create a table</a>\n",
    "\n",
    "<a href = #section4> 4. Formulas </a>\n",
    "\n",
    "<a href = #section5> 5. Bonus topics!</a>\n"
   ]
  },
  {
   "cell_type": "markdown",
   "metadata": {},
   "source": [
    "<a id =  'section1'></a>\n",
    "### 1. What is Markdown?"
   ]
  },
  {
   "cell_type": "markdown",
   "metadata": {},
   "source": [
    "As defined by *John Gruber* [here](https://daringfireball.net/projects/markdown/),\n",
    "> Markdown is a **text-to-HTML _conversion tool_** for web writers. Markdown allows you to write using an easy-to-read, easy-to-write plain text format, then convert it to structurally valid XHTML (or HTML) \n",
    "\n",
    "in other words, **Markdown is a tool of _styling_ the text on the web** and controlling the display of the document. Just to name a few capabilities, with Markdown you can easily format the words, e.g. as **bold**, _italic_, ~~striked through~~. \n",
    "You can add images, create lists or tables, insert inline code like `x = [line.split() for line in text]` and do many other things.\n",
    "\n",
    "Mostly, Markdown is simply a regular text with a few non-alphabetic characters thrown in, like \\# or \\*. It is easy to learn and, as with many other things, if you have a question about Markdown, just [Google](http://google.com/) it!\n",
    "\n",
    "To install Python-Markdown simply type `pip install markdown` from the command line as an Admin/Root user."
   ]
  },
  {
   "cell_type": "markdown",
   "metadata": {},
   "source": [
    "<a id = 'section2'></a>\n",
    "### 2. Lists"
   ]
  },
  {
   "cell_type": "markdown",
   "metadata": {},
   "source": [
    "It is easy to create any type of lists in Markdown.\n",
    "\n",
    "Here is the *ordered list*:\n",
    "\n",
    "1. Point one\n",
    "> You can add a citation to support your point!\n",
    "2. Point two\n",
    "3. Point three"
   ]
  },
  {
   "cell_type": "markdown",
   "metadata": {},
   "source": [
    "An _unordered_ list may look like this:\n",
    "\n",
    "**Common git commands:**\n",
    "\n",
    "- `git init`\n",
    "- `git add`\n",
    "- `git commit`\n",
    "- `git status`\n",
    "- ...\n"
   ]
  },
  {
   "cell_type": "markdown",
   "metadata": {},
   "source": [
    "You can easily create *nested lists* as well.\n",
    "\n",
    "**Common `git` commands:**\n",
    "1. *Working  with local repositories*\n",
    "   - `git init`\n",
    "     - To make directory a git repository\n",
    "             git init\n",
    "     - To change directory and make it a git repository\n",
    "             cd /Users/computer-name/code\n",
    "             git init\n",
    "   - `git add`\n",
    "     - To add all files\n",
    "             git add .\n",
    "     - To add a specfic file\n",
    "             git add README.md\n",
    "   - ...\n",
    "2. *Working with remote repositories*\n",
    "   - `git remote`\n",
    "     - To add a remote repository \n",
    "             git remote <command> <remote_name> <remote_URL>\n",
    "   - ..."
   ]
  },
  {
   "cell_type": "markdown",
   "metadata": {},
   "source": [
    "As you might have already noticed, you can easily insert any code to your markdown cell:\n",
    "\n",
    "    def print_hello(name):\n",
    "        print \"Hello\", name\n",
    "    "
   ]
  },
  {
   "cell_type": "markdown",
   "metadata": {},
   "source": [
    "<a id = 'section3'></a>\n",
    "### 3. Tables\n",
    "\n",
    "You can fairly easily create tables inside your markdown cell.\n",
    "\n",
    "Try this example.\n",
    "\n",
    "<center> **Table1. Comparison of Python 2.7x and Python 3.x** </center>\n",
    "\n",
    "\n",
    "\n",
    "||Python 2.7.x|Python 3.x\n",
    "|:------------|------------:|----------:\n",
    "|print function| print('Hello!')|print 'Hello'\n",
    "|integer division| 3/2 = 1| 3/2 = 1.5\n",
    "|xrange function | xrange() | range()\n",
    "\n",
    "\n"
   ]
  },
  {
   "cell_type": "markdown",
   "metadata": {},
   "source": [
    "<a id = 'section4'></a>\n",
    "### 4. Formulas\n",
    "\n",
    "In Machine Learning course you will learn a lot of models.\n",
    "Below is the basic linear regression model:\n",
    "$y_i = \\beta_0 + \\beta_1x_{i1} + \\beta_2x_{i2} + ... + \\beta_px_{ip} +\\epsilon_i =\\beta_0 + \\displaystyle\\sum_{k=1}^{p}{\\beta_kx_{ik}} + \\epsilon_i = \\mathbf{x_i^T\\boldsymbol{\\beta}} + \\epsilon_i$,\n",
    "\n",
    "which can be written in a matrix form as follows:\n",
    "\n",
    "$\\mathbf{y = X\\boldsymbol{\\beta + \\epsilon}}$, \n",
    "\n",
    "where $\\mathbf{y} =\n",
    "    \\begin{pmatrix}\n",
    "     y_1 \\\\\n",
    "     y_2 \\\\\n",
    "     \\vdots \\\\\n",
    "     y_n\n",
    "    \\end{pmatrix}$, \n",
    "    \n",
    "${X} = \n",
    "    \\begin{pmatrix}\n",
    "     \\mathbf{x_1}^T \\\\\n",
    "     \\mathbf{x_2}^T \\\\\n",
    "     \\vdots \\\\\n",
    "     \\mathbf{x_n}^T\n",
    "    \\end{pmatrix}\n",
    "    = \n",
    "     \\begin{pmatrix}\n",
    "      1 & x_{11} & \\cdots & x_{1p} \\\\\n",
    "      1 & x_{21} & \\cdots & x_{2p} \\\\\n",
    "      \\vdots  & \\vdots  & \\ddots & \\vdots  \\\\\n",
    "      1 & x_{n1} & \\cdots & x_{np} \n",
    "     \\end{pmatrix}$\n",
    "\n",
    "$\\boldsymbol{\\beta} = \n",
    "   \\begin{pmatrix}\n",
    "     \\beta_0 \\\\\n",
    "     \\beta_1 \\\\\n",
    "     \\beta_2 \\\\\n",
    "     \\vdots \\\\\n",
    "     \\beta_p\n",
    "    \\end{pmatrix} ,\n",
    " \\boldsymbol{\\epsilon} = \n",
    "   \\begin{pmatrix}\n",
    "     \\epsilon_1 \\\\\n",
    "     \\epsilon_2 \\\\\n",
    "     \\vdots \\\\\n",
    "     \\epsilon_n\n",
    "   \\end{pmatrix}$\n"
   ]
  },
  {
   "cell_type": "markdown",
   "metadata": {},
   "source": [
    "<a id = 'section5'></a>\n",
    "\n",
    "### 5. Bonus tasks\n",
    "\n",
    "By this point, we are sure, you already know how to insert links into markdown files. \n",
    "\n",
    "Here is a bonus question: create the links to the plotting libraries isted below using the list of links.\n",
    "\n",
    "*(Hint: the format of links is as follows: [link1]: < link >)*\n",
    "\n",
    "You will soon learn how to create awesome plots using [matplotlib][1], [ggplot][2] or [seaborn][3] libraries\n",
    "   [1]: https://matplotlib.org/   \"Matplotlib\"\n",
    "   [2]: http://yhat.github.io/ggpy/ \"ggplot\"\n",
    "   [3]: https://seaborn.pydata.org/ \"seaborn\"\n",
    " \n",
    "For now, however, let's just insert any picture from the web. How about this one? ;)\n",
    "\n",
    "![Baracktocat](https://cdn-images-1.medium.com/max/1600/1*6u51C_pl-UH3X3CbggmCjA.png)\n",
    "\n",
    "\n",
    "\n"
   ]
  },
  {
   "cell_type": "markdown",
   "metadata": {},
   "source": [
    "<a href = '#top'>Jump to the top</a>"
   ]
  }
 ],
 "metadata": {
  "kernelspec": {
   "display_name": "Python 3",
   "language": "python",
   "name": "python3"
  },
  "language_info": {
   "codemirror_mode": {
    "name": "ipython",
    "version": 3
   },
   "file_extension": ".py",
   "mimetype": "text/x-python",
   "name": "python",
   "nbconvert_exporter": "python",
   "pygments_lexer": "ipython3",
   "version": "3.6.3"
  }
 },
 "nbformat": 4,
 "nbformat_minor": 2
}
